{
  "nbformat": 4,
  "nbformat_minor": 0,
  "metadata": {
    "colab": {
      "name": "cam_exercise.ipynb",
      "provenance": [],
      "collapsed_sections": []
    },
    "kernelspec": {
      "name": "python3",
      "display_name": "Python 3"
    },
    "language_info": {
      "name": "python"
    }
  },
  "cells": [
    {
      "cell_type": "markdown",
      "source": [
        "[![Open In Colab](https://colab.research.google.com/assets/colab-badge.svg)](https://colab.research.google.com/github/mahmouddraz/xai/blob/main/notebooks/cam/cam_exercise.ipynb)"
      ],
      "metadata": {
        "id": "RnQ6vdglXmpK"
      }
    },
    {
      "cell_type": "markdown",
      "source": [
        "# Clone the workshop Repo"
      ],
      "metadata": {
        "id": "IyVgtwkzf5jY"
      }
    },
    {
      "cell_type": "code",
      "source": [
        "!git clone https://github.com/mahmouddraz/xai.git"
      ],
      "metadata": {
        "id": "ggfdtwvFf8ne"
      },
      "execution_count": null,
      "outputs": []
    },
    {
      "cell_type": "markdown",
      "source": [
        "# Imports "
      ],
      "metadata": {
        "id": "dUeNJimg-vHd"
      }
    },
    {
      "cell_type": "code",
      "execution_count": null,
      "metadata": {
        "id": "zr4V_uueVwoE"
      },
      "outputs": [],
      "source": [
        "import tensorflow as tf \n",
        "import tensorflow_datasets as tfds \n",
        "import cv2 \n",
        "import matplotlib.pyplot as plt\n",
        "import scipy as sp \n",
        "import numpy as np "
      ]
    },
    {
      "cell_type": "markdown",
      "source": [
        "# Load model \n"
      ],
      "metadata": {
        "id": "5IdooTXr-uVt"
      }
    },
    {
      "cell_type": "code",
      "source": [
        "model = tf.keras.models.load_model('/content/xai/pretrained_models/cnn_model_cam.h5')"
      ],
      "metadata": {
        "id": "Xvb4Q708-575"
      },
      "execution_count": null,
      "outputs": []
    },
    {
      "cell_type": "code",
      "source": [
        "model.summary()"
      ],
      "metadata": {
        "id": "kHr3Tijk_B6E"
      },
      "execution_count": null,
      "outputs": []
    },
    {
      "cell_type": "markdown",
      "source": [
        "## Create CAM model"
      ],
      "metadata": {
        "id": "TaXY-tjlULuG"
      }
    },
    {
      "cell_type": "code",
      "source": [
        "############ CODE HERE  ############\n",
        "# TIP: inputs= model.input, outputs=[models.layers[-3].output momdel.layers[-1].output]\n",
        "\n",
        "\n",
        "\n",
        "\n",
        "\n",
        "############ CODE HERE  ############"
      ],
      "metadata": {
        "id": "swNJTeo3_ViO"
      },
      "execution_count": null,
      "outputs": []
    },
    {
      "cell_type": "markdown",
      "source": [
        "# Take some images for testing"
      ],
      "metadata": {
        "id": "bvEBkaMdUTwL"
      }
    },
    {
      "cell_type": "code",
      "source": [
        "!wget -O cat1.jpg "
      ],
      "metadata": {
        "id": "3mHI4t8PAXnO"
      },
      "execution_count": null,
      "outputs": []
    },
    {
      "cell_type": "markdown",
      "source": [
        "## Prepare image and show resuts"
      ],
      "metadata": {
        "id": "NbG1CXJqbQD-"
      }
    },
    {
      "cell_type": "code",
      "source": [
        "def prepare_and_show_image(image): \n",
        "  \n",
        "  # read image \n",
        "  ############ CODE HERE  ############\n",
        "\n",
        "  # resize image to to match the model input \n",
        "  ############ CODE HERE  ############\n",
        "\n",
        "  # normalize image \n",
        " ############ CODE HERE  ############\n",
        "  \n",
        "  # add one more axis \n",
        "  ############ CODE HERE  ############\n",
        "\n",
        "  #make a prediction\n",
        "  ############ CODE HERE  ############\n",
        "  \n",
        "  #get the class_Activation features\n",
        "  ############ CODE HERE  ############\n",
        "\n",
        "  # get the class activation weights \n",
        "  ############ CODE HERE  ############\n",
        "\n",
        "  # calculate the activation map \n",
        "  ############ CODE HERE  ############\n",
        "  \n",
        "  # print and visualize \n",
        "  print(\"DOG\" if round(res[0][0]) else \"CAT\")\n",
        "  fig = plt.figure(figsize=(10,10))\n",
        "  plt.imshow(cam_output, cmap='jet', alpha=0.6)\n",
        "  plt.imshow(tf.squeeze(image_tensor), alpha=0.3)\n",
        "\n"
      ],
      "metadata": {
        "id": "S_wrIe98VM8Q"
      },
      "execution_count": null,
      "outputs": []
    },
    {
      "cell_type": "code",
      "source": [
        "prepare_and_show_image('cat1.jpg')"
      ],
      "metadata": {
        "id": "GPvqWhqGQpbk"
      },
      "execution_count": null,
      "outputs": []
    },
    {
      "cell_type": "markdown",
      "source": [
        "## Task"
      ],
      "metadata": {
        "id": "YqJAa86GunDH"
      }
    },
    {
      "cell_type": "markdown",
      "source": [
        "## 1. If you have an image with the following shape (1080, 440, 3), what would be the preprocesing steps to preprare for a cam model that has an input shape of (None, 200, 200, 3)\n",
        "\n",
        "\n",
        "\n"
      ],
      "metadata": {
        "id": "wzqTdUj1gvOm"
      }
    },
    {
      "cell_type": "markdown",
      "source": [
        ""
      ],
      "metadata": {
        "id": "Q3R1JZr1jfvh"
      }
    },
    {
      "cell_type": "markdown",
      "source": [
        "## 2. Why do we have to to use tf.squeeze before ploting the image on the same figure with the actiavtion maps?\n"
      ],
      "metadata": {
        "id": "9rOgmCHKjSAm"
      }
    },
    {
      "cell_type": "markdown",
      "source": [
        ""
      ],
      "metadata": {
        "id": "qxkELG-0jd27"
      }
    },
    {
      "cell_type": "markdown",
      "source": [
        "## 3. Which of the following options is correct to extract the class activatios weights from a model that has its gloable average pooling layer number 2 to the last\n",
        "  a) model.layers[-2].get_weights()\n",
        "\n",
        "  b) model.layers[-1].get_weights()\n",
        "\n",
        "  c) model.layerss[-1].output"
      ],
      "metadata": {
        "id": "-Huz9CCSjYeK"
      }
    },
    {
      "cell_type": "code",
      "source": [
        ""
      ],
      "metadata": {
        "id": "_iXtBcsKjQKQ"
      },
      "execution_count": null,
      "outputs": []
    },
    {
      "cell_type": "code",
      "source": [
        ""
      ],
      "metadata": {
        "id": "LJAuxyHIjWpP"
      },
      "execution_count": null,
      "outputs": []
    }
  ]
}